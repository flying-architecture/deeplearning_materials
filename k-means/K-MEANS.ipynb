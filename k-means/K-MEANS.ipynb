{
 "cells": [
  {
   "cell_type": "code",
   "execution_count": 1,
   "metadata": {},
   "outputs": [],
   "source": [
    "from sklearn.cluster import KMeans\n",
    "import numpy as np\n",
    "import matplotlib.pyplot as plt\n",
    "from numpy import genfromtxt"
   ]
  },
  {
   "cell_type": "code",
   "execution_count": 2,
   "metadata": {},
   "outputs": [
    {
     "data": {
      "image/png": "[encoded data removed]",
      "text/plain": [
       "<Figure size 432x288 with 1 Axes>"
      ]
     },
     "metadata": {
      "needs_background": "light"
     },
     "output_type": "display_data"
    }
   ],
   "source": [
    "# 读入数据 \n",
    "data = genfromtxt(r\"kmeans.txt\",delimiter=' ')\n",
    "\n",
    "plt.scatter(data[:,0],data[:,1])    # 画图观察数据\n",
    "plt.show()"
   ]
  },
  {
   "cell_type": "code",
   "execution_count": 3,
   "metadata": {},
   "outputs": [],
   "source": [
    "# 训练模型\n",
    "k = 4\n",
    "model = KMeans(n_clusters=k).fit(data)  # 设置聚类数"
   ]
  },
  {
   "cell_type": "code",
   "execution_count": 4,
   "metadata": {},
   "outputs": [
    {
     "name": "stdout",
     "output_type": "stream",
     "text": [
      "[[ 2.80293085 -2.7315146 ]\n",
      " [-2.46154315  2.78737555]\n",
      " [-3.38237045 -2.9473363 ]\n",
      " [ 2.6265299   3.10868015]]\n"
     ]
    }
   ],
   "source": [
    "# 分类中心点坐标\n",
    "center = model.cluster_centers_\n",
    "print(center)"
   ]
  },
  {
   "cell_type": "code",
   "execution_count": 5,
   "metadata": {},
   "outputs": [
    {
     "name": "stdout",
     "output_type": "stream",
     "text": [
      "[3 1 0 2 3 1 0 2 3 1 0 2 3 1 0 2 3 1 0 2 3 1 0 2 3 1 0 2 3 1 0 2 3 1 0 2 3\n",
      " 1 0 2 3 1 0 2 3 1 0 2 3 1 0 2 3 1 0 2 3 1 0 2 3 1 0 2 3 1 0 2 3 1 0 2 3 1\n",
      " 0 2 3 1 0 2]\n"
     ]
    }
   ],
   "source": [
    "# 预测结果\n",
    "result = model.predict(data)    \n",
    "print(result)"
   ]
  },
  {
   "cell_type": "code",
   "execution_count": 6,
   "metadata": {},
   "outputs": [
    {
     "name": "stdout",
     "output_type": "stream",
     "text": [
      "0 [1.658985 4.285136]\n",
      "1 [-3.453687  3.424321]\n",
      "2 [ 4.838138 -1.151539]\n",
      "3 [-5.379713 -3.362104]\n",
      "4 [0.972564 2.924086]\n",
      "5 [-3.567919  1.531611]\n",
      "6 [ 0.450614 -3.302219]\n",
      "7 [-3.487105 -1.724432]\n",
      "8 [2.668759 1.594842]\n",
      "9 [-3.156485  3.191137]\n",
      "10 [ 3.165506 -3.999838]\n",
      "11 [-2.786837 -3.099354]\n",
      "12 [4.208187 2.984927]\n",
      "13 [-2.123337  2.943366]\n",
      "14 [ 0.704199 -0.479481]\n",
      "15 [-0.39237  -3.963704]\n",
      "16 [2.831667 1.574018]\n",
      "17 [-0.790153  3.343144]\n",
      "18 [ 2.943496 -3.357075]\n",
      "19 [-3.195883 -2.283926]\n",
      "20 [2.336445 2.875106]\n",
      "21 [-1.786345  2.554248]\n",
      "22 [ 2.190101 -1.90602 ]\n",
      "23 [-3.403367 -2.778288]\n",
      "24 [1.778124 3.880832]\n",
      "25 [-1.688346  2.230267]\n",
      "26 [ 2.592976 -2.054368]\n",
      "27 [-4.007257 -3.207066]\n",
      "28 [2.257734 3.387564]\n",
      "29 [-2.679011  0.785119]\n",
      "30 [ 0.939512 -4.023563]\n",
      "31 [-3.674424 -2.261084]\n",
      "32 [2.046259 2.735279]\n",
      "33 [-3.18947   1.780269]\n",
      "34 [ 4.372646 -0.822248]\n",
      "35 [-2.579316 -3.497576]\n",
      "36 [1.889034 5.1904  ]\n",
      "37 [-0.798747  2.185588]\n",
      "38 [ 2.83652  -2.658556]\n",
      "39 [-3.837877 -3.253815]\n",
      "40 [2.096701 3.886007]\n",
      "41 [-2.709034  2.923887]\n",
      "42 [ 3.367037 -3.184789]\n",
      "43 [-2.121479 -4.232586]\n",
      "44 [2.329546 3.179764]\n",
      "45 [-3.284816  3.273099]\n",
      "46 [ 3.091414 -3.815232]\n",
      "47 [-3.762093 -2.432191]\n",
      "48 [3.542056 2.778832]\n",
      "49 [-1.736822  4.241041]\n",
      "50 [ 2.127073 -2.98368 ]\n",
      "51 [-4.323818 -3.938116]\n",
      "52 [3.792121 5.135768]\n",
      "53 [-4.786473  3.358547]\n",
      "54 [ 2.624081 -3.260715]\n",
      "55 [-4.009299 -2.978115]\n",
      "56 [2.493525 1.96371 ]\n",
      "57 [-2.513661  2.642162]\n",
      "58 [ 1.864375 -3.176309]\n",
      "59 [-3.171184 -3.572452]\n",
      "60 [2.89422  2.489128]\n",
      "61 [-2.562539  2.884438]\n",
      "62 [ 3.491078 -3.947487]\n",
      "63 [-2.565729 -2.012114]\n",
      "64 [3.332948 3.983102]\n",
      "65 [-1.616805  3.573188]\n",
      "66 [ 2.280615 -2.559444]\n",
      "67 [-2.651229 -3.103198]\n",
      "68 [2.321395 3.154987]\n",
      "69 [-1.685703  2.939697]\n",
      "70 [ 3.031012 -3.620252]\n",
      "71 [-4.599622 -2.185829]\n",
      "72 [4.196223 1.126677]\n",
      "73 [-2.133863  3.093686]\n",
      "74 [ 4.668892 -2.562705]\n",
      "75 [-2.793241 -2.149706]\n",
      "76 [2.884105 3.043438]\n",
      "77 [-2.967647  2.848696]\n",
      "78 [ 4.479332 -1.764772]\n",
      "79 [-4.905566 -2.91107 ]\n"
     ]
    }
   ],
   "source": [
    "for i,d in enumerate(data):    # 计算循环次数\n",
    "    print(i,d)"
   ]
  },
  {
   "cell_type": "code",
   "execution_count": 11,
   "metadata": {
    "scrolled": true
   },
   "outputs": [
    {
     "data": {
      "image/png": "[encoded data removed]",
      "text/plain": [
       "<Figure size 432x288 with 1 Axes>"
      ]
     },
     "metadata": {
      "needs_background": "light"
     },
     "output_type": "display_data"
    }
   ],
   "source": [
    "# 画出各个数据点，用不同颜色表示分类\n",
    "color = ['r', 'b', 'g', 'y']\n",
    "for i,d in enumerate(data):\n",
    "    plt.scatter(d[0],d[1],c=color[result[i]])   # 画散点图，类别i对应颜色color\n",
    "\n",
    "# 画出各个分类的中心点\n",
    "mark = ['*r', '*b', '*g', '*y',]\n",
    "for i,d in enumerate(center):\n",
    "    plt.plot(d[0],d[1], mark[i], markersize=20)  # 循环聚类中心点\n",
    "    \n",
    "plt.show()"
   ]
  },
  {
   "cell_type": "code",
   "execution_count": 8,
   "metadata": {},
   "outputs": [
    {
     "data": {
      "text/plain": [
       "array([3, 1, 0, 2, 3, 1, 0, 2, 3, 1, 0, 2, 3, 1, 0, 2, 3, 1, 0, 2, 3, 1,\n",
       "       0, 2, 3, 1, 0, 2, 3, 1, 0, 2, 3, 1, 0, 2, 3, 1, 0, 2, 3, 1, 0, 2,\n",
       "       3, 1, 0, 2, 3, 1, 0, 2, 3, 1, 0, 2, 3, 1, 0, 2, 3, 1, 0, 2, 3, 1,\n",
       "       0, 2, 3, 1, 0, 2, 3, 1, 0, 2, 3, 1, 0, 2])"
      ]
     },
     "execution_count": 8,
     "metadata": {},
     "output_type": "execute_result"
    }
   ],
   "source": [
    "model.labels_"
   ]
  },
  {
   "cell_type": "code",
   "execution_count": 9,
   "metadata": {},
   "outputs": [],
   "source": [
    "# 肘部法则\n",
    "loss = []\n",
    "for k in range(2,10):\n",
    "    model = KMeans(n_clusters=k).fit(data)\n",
    "    loss.append(model.inertia_)    # 并非真实的损失函数，所有点到其对应聚类中心的距离平方和，数值越小，聚类效果越好"
   ]
  },
  {
   "cell_type": "code",
   "execution_count": 10,
   "metadata": {},
   "outputs": [
    {
     "data": {
      "image/png": "[encoded data removed]",
      "text/plain": [
       "<Figure size 432x288 with 1 Axes>"
      ]
     },
     "metadata": {
      "needs_background": "light"
     },
     "output_type": "display_data"
    }
   ],
   "source": [
    "plt.plot(range(2,10),loss)\n",
    "plt.xlabel('k')\n",
    "plt.ylabel('loss')\n",
    "plt.show()"
   ]
  },
  {
   "cell_type": "code",
   "execution_count": null,
   "metadata": {},
   "outputs": [],
   "source": []
  }
 ],
 "metadata": {
  "anaconda-cloud": {},
  "kernelspec": {
   "display_name": "Python 3",
   "language": "python",
   "name": "python3"
  },
  "language_info": {
   "codemirror_mode": {
    "name": "ipython",
    "version": 3
   },
   "file_extension": ".py",
   "mimetype": "text/x-python",
   "name": "python",
   "nbconvert_exporter": "python",
   "pygments_lexer": "ipython3",
   "version": "3.7.4"
  }
 },
 "nbformat": 4,
 "nbformat_minor": 1
}
