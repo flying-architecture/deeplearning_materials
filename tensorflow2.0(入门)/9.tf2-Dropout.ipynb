{
 "cells": [
  {
   "cell_type": "code",
   "execution_count": 1,
   "metadata": {},
   "outputs": [
    {
     "name": "stderr",
     "output_type": "stream",
     "text": [
      "C:\\Users\\MeganLee\\AppData\\Local\\Continuum\\anaconda3\\lib\\site-packages\\h5py\\__init__.py:36: FutureWarning: Conversion of the second argument of issubdtype from `float` to `np.floating` is deprecated. In future, it will be treated as `np.float64 == np.dtype(float).type`.\n",
      "  from ._conv import register_converters as _register_converters\n"
     ]
    }
   ],
   "source": [
    "import tensorflow as tf\n",
    "from tensorflow.keras.models import Sequential\n",
    "from tensorflow.keras.layers import Dense,Dropout,Flatten\n",
    "from tensorflow.keras.optimizers import SGD"
   ]
  },
  {
   "cell_type": "code",
   "execution_count": 2,
   "metadata": {},
   "outputs": [
    {
     "name": "stdout",
     "output_type": "stream",
     "text": [
      "(60000, 28, 28) (60000,)\n",
      "Train on 60000 samples, validate on 10000 samples\n",
      "Epoch 1/10\n",
      "60000/60000 [==============================] - 8s 136us/sample - loss: 0.4163 - accuracy: 0.8732 - val_loss: 0.2051 - val_accuracy: 0.9379\n",
      "Epoch 2/10\n",
      "60000/60000 [==============================] - 7s 112us/sample - loss: 0.2801 - accuracy: 0.9176 - val_loss: 0.1718 - val_accuracy: 0.9487\n",
      "Epoch 3/10\n",
      "60000/60000 [==============================] - 7s 117us/sample - loss: 0.2403 - accuracy: 0.9291 - val_loss: 0.1528 - val_accuracy: 0.9541\n",
      "Epoch 4/10\n",
      "60000/60000 [==============================] - 7s 122us/sample - loss: 0.2180 - accuracy: 0.9361 - val_loss: 0.1556 - val_accuracy: 0.9558\n",
      "Epoch 5/10\n",
      "60000/60000 [==============================] - 7s 120us/sample - loss: 0.1973 - accuracy: 0.9422 - val_loss: 0.1233 - val_accuracy: 0.9638\n",
      "Epoch 6/10\n",
      "60000/60000 [==============================] - 7s 119us/sample - loss: 0.1859 - accuracy: 0.9448 - val_loss: 0.1180 - val_accuracy: 0.9655\n",
      "Epoch 7/10\n",
      "60000/60000 [==============================] - 7s 117us/sample - loss: 0.1795 - accuracy: 0.9472 - val_loss: 0.1149 - val_accuracy: 0.9652\n",
      "Epoch 8/10\n",
      "60000/60000 [==============================] - 7s 121us/sample - loss: 0.1689 - accuracy: 0.9499 - val_loss: 0.1033 - val_accuracy: 0.9675\n",
      "Epoch 9/10\n",
      "60000/60000 [==============================] - 7s 122us/sample - loss: 0.1616 - accuracy: 0.9510 - val_loss: 0.1021 - val_accuracy: 0.9683\n",
      "Epoch 10/10\n",
      "60000/60000 [==============================] - 8s 127us/sample - loss: 0.1575 - accuracy: 0.9539 - val_loss: 0.1048 - val_accuracy: 0.9689\n"
     ]
    },
    {
     "data": {
      "text/plain": [
       "<tensorflow.python.keras.callbacks.History at 0x2623b1405c0>"
      ]
     },
     "execution_count": 2,
     "metadata": {},
     "output_type": "execute_result"
    }
   ],
   "source": [
    "# 载入数据\n",
    "mnist = tf.keras.datasets.mnist\n",
    "\n",
    "(x_train, y_train), (x_test, y_test) = mnist.load_data()\n",
    "x_train, x_test = x_train / 255.0, x_test / 255.0\n",
    "print(x_train.shape, y_train.shape)\n",
    "\n",
    "y_train = tf.keras.utils.to_categorical(y_train,num_classes=10)\n",
    "y_test = tf.keras.utils.to_categorical(y_test,num_classes=10)\n",
    "\n",
    "# 创建模型\n",
    "model = Sequential([\n",
    "        Flatten(input_shape=(28, 28)),\n",
    "        Dense(units=200,activation='tanh'),\n",
    "        Dropout(0.4),     # 40%神经元不工作\n",
    "        Dense(units=100,activation='tanh'),\n",
    "        Dropout(0.4),\n",
    "        Dense(units=10,activation='softmax')\n",
    "    ])\n",
    "\n",
    "# 定义优化器\n",
    "sgd = SGD(lr=0.2)\n",
    "\n",
    "# 定义优化器，loss function，训练过程中计算准确率\n",
    "model.compile(\n",
    "    optimizer = sgd,\n",
    "    loss = 'categorical_crossentropy',\n",
    "    metrics=['accuracy'],\n",
    ")\n",
    "\n",
    "# 训练模型\n",
    "model.fit(x_train,y_train,batch_size=32,epochs=10,validation_data=(x_test,y_test))"
   ]
  },
  {
   "cell_type": "code",
   "execution_count": 3,
   "metadata": {},
   "outputs": [
    {
     "name": "stdout",
     "output_type": "stream",
     "text": [
      "(60000, 28, 28) (60000,)\n",
      "Train on 60000 samples, validate on 10000 samples\n",
      "Epoch 1/10\n",
      "60000/60000 [==============================] - 8s 130us/sample - loss: 0.2554 - accuracy: 0.9235 - val_loss: 0.1624 - val_accuracy: 0.9496\n",
      "Epoch 2/10\n",
      "60000/60000 [==============================] - 7s 119us/sample - loss: 0.1167 - accuracy: 0.9639 - val_loss: 0.1287 - val_accuracy: 0.9596\n",
      "Epoch 3/10\n",
      "60000/60000 [==============================] - 7s 121us/sample - loss: 0.0788 - accuracy: 0.9760 - val_loss: 0.0983 - val_accuracy: 0.9679\n",
      "Epoch 4/10\n",
      "60000/60000 [==============================] - 7s 123us/sample - loss: 0.0580 - accuracy: 0.9819 - val_loss: 0.0904 - val_accuracy: 0.9700\n",
      "Epoch 5/10\n",
      "60000/60000 [==============================] - 7s 113us/sample - loss: 0.0440 - accuracy: 0.9865 - val_loss: 0.0814 - val_accuracy: 0.9736\n",
      "Epoch 6/10\n",
      "60000/60000 [==============================] - 7s 114us/sample - loss: 0.0346 - accuracy: 0.9892 - val_loss: 0.0801 - val_accuracy: 0.9756\n",
      "Epoch 7/10\n",
      "60000/60000 [==============================] - 7s 117us/sample - loss: 0.0249 - accuracy: 0.9929 - val_loss: 0.0688 - val_accuracy: 0.9772\n",
      "Epoch 8/10\n",
      "60000/60000 [==============================] - 7s 114us/sample - loss: 0.0179 - accuracy: 0.9952 - val_loss: 0.0700 - val_accuracy: 0.9777\n",
      "Epoch 9/10\n",
      "60000/60000 [==============================] - 7s 119us/sample - loss: 0.0133 - accuracy: 0.9970 - val_loss: 0.0673 - val_accuracy: 0.9793\n",
      "Epoch 10/10\n",
      "60000/60000 [==============================] - 7s 119us/sample - loss: 0.0082 - accuracy: 0.9986 - val_loss: 0.0651 - val_accuracy: 0.9809\n"
     ]
    },
    {
     "data": {
      "text/plain": [
       "<tensorflow.python.keras.callbacks.History at 0x2623ac50a58>"
      ]
     },
     "execution_count": 3,
     "metadata": {},
     "output_type": "execute_result"
    }
   ],
   "source": [
    "mnist = tf.keras.datasets.mnist\n",
    "\n",
    "(x_train, y_train), (x_test, y_test) = mnist.load_data()\n",
    "x_train, x_test = x_train / 255.0, x_test / 255.0\n",
    "print(x_train.shape, y_train.shape)\n",
    "\n",
    "y_train = tf.keras.utils.to_categorical(y_train,num_classes=10)\n",
    "y_test = tf.keras.utils.to_categorical(y_test,num_classes=10)\n",
    "\n",
    "# 创建模型\n",
    "model = Sequential([\n",
    "        Flatten(input_shape=(28, 28)),\n",
    "        Dense(units=200,activation='tanh'),\n",
    "        Dropout(0),           # 所有神经元都工作，运算量大\n",
    "        Dense(units=100,activation='tanh'),\n",
    "        Dropout(0),\n",
    "        Dense(units=10,activation='softmax')\n",
    "    ])\n",
    "\n",
    "# 定义优化器\n",
    "sgd = SGD(lr=0.2)\n",
    "\n",
    "# 定义优化器，loss function，训练过程中计算准确率\n",
    "model.compile(\n",
    "    optimizer = sgd,\n",
    "    loss = 'categorical_crossentropy',\n",
    "    metrics=['accuracy'],\n",
    ")\n",
    "\n",
    "# 训练模型\n",
    "model.fit(x_train,y_train,batch_size=32,epochs=10,validation_data=(x_test,y_test))"
   ]
  },
  {
   "cell_type": "code",
   "execution_count": null,
   "metadata": {},
   "outputs": [],
   "source": []
  }
 ],
 "metadata": {
  "anaconda-cloud": {},
  "kernelspec": {
   "display_name": "Python 3",
   "language": "python",
   "name": "python3"
  },
  "language_info": {
   "codemirror_mode": {
    "name": "ipython",
    "version": 3
   },
   "file_extension": ".py",
   "mimetype": "text/x-python",
   "name": "python",
   "nbconvert_exporter": "python",
   "pygments_lexer": "ipython3",
   "version": "3.6.5"
  }
 },
 "nbformat": 4,
 "nbformat_minor": 1
}
