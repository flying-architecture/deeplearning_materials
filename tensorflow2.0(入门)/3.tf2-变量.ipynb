{
 "cells": [
  {
   "cell_type": "code",
   "execution_count": 1,
   "metadata": {},
   "outputs": [],
   "source": [
    "import tensorflow as tf"
   ]
  },
  {
   "cell_type": "code",
   "execution_count": 2,
   "metadata": {},
   "outputs": [
    {
     "name": "stdout",
     "output_type": "stream",
     "text": [
      "tf.Tensor([-2 -1], shape=(2,), dtype=int32)\n",
      "tf.Tensor([-1  1], shape=(2,), dtype=int32)\n"
     ]
    }
   ],
   "source": [
    "# 定义一个变量\n",
    "x = tf.Variable([1,2])\n",
    "# 定义一个常量\n",
    "a = tf.constant([3,3])\n",
    "# 减法op\n",
    "sub = tf.subtract(x, a)\n",
    "# 加法op\n",
    "add = tf.add(x,sub)\n",
    "\n",
    "print(sub)\n",
    "print(add)"
   ]
  },
  {
   "cell_type": "code",
   "execution_count": null,
   "metadata": {
    "collapsed": true
   },
   "outputs": [],
   "source": []
  }
 ],
 "metadata": {
  "anaconda-cloud": {},
  "kernelspec": {
   "display_name": "Python 3",
   "language": "python",
   "name": "python3"
  },
  "language_info": {
   "codemirror_mode": {
    "name": "ipython",
    "version": 3
   },
   "file_extension": ".py",
   "mimetype": "text/x-python",
   "name": "python",
   "nbconvert_exporter": "python",
   "pygments_lexer": "ipython3",
   "version": "3.6.5"
  }
 },
 "nbformat": 4,
 "nbformat_minor": 1
}
