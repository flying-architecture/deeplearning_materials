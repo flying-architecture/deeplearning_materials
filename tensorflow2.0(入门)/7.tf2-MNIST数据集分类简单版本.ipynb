{
 "cells": [
  {
   "cell_type": "code",
   "execution_count": 1,
   "metadata": {},
   "outputs": [
    {
     "name": "stderr",
     "output_type": "stream",
     "text": [
      "/Users/qin/anaconda3/lib/python3.6/site-packages/h5py/__init__.py:36: FutureWarning: Conversion of the second argument of issubdtype from `float` to `np.floating` is deprecated. In future, it will be treated as `np.float64 == np.dtype(float).type`.\n",
      "  from ._conv import register_converters as _register_converters\n"
     ]
    }
   ],
   "source": [
    "import tensorflow as tf\n",
    "from tensorflow.keras.optimizers import SGD"
   ]
  },
  {
   "cell_type": "code",
   "execution_count": 2,
   "metadata": {},
   "outputs": [
    {
     "name": "stdout",
     "output_type": "stream",
     "text": [
      "(60000, 28, 28) (60000,)\n",
      "WARNING:tensorflow:From /Users/qin/anaconda3/lib/python3.6/site-packages/tensorflow/python/ops/resource_variable_ops.py:435: colocate_with (from tensorflow.python.framework.ops) is deprecated and will be removed in a future version.\n",
      "Instructions for updating:\n",
      "Colocations handled automatically by placer.\n",
      "WARNING:tensorflow:From /Users/qin/anaconda3/lib/python3.6/site-packages/tensorflow/python/keras/utils/losses_utils.py:170: to_float (from tensorflow.python.ops.math_ops) is deprecated and will be removed in a future version.\n",
      "Instructions for updating:\n",
      "Use tf.cast instead.\n",
      "Train on 60000 samples, validate on 10000 samples\n",
      "WARNING:tensorflow:From /Users/qin/anaconda3/lib/python3.6/site-packages/tensorflow/python/ops/math_ops.py:3066: to_int32 (from tensorflow.python.ops.math_ops) is deprecated and will be removed in a future version.\n",
      "Instructions for updating:\n",
      "Use tf.cast instead.\n",
      "Epoch 1/10\n",
      "60000/60000 [==============================] - 2s 29us/sample - loss: 0.0516 - acc: 0.6778 - val_loss: 0.0290 - val_acc: 0.8511\n",
      "Epoch 2/10\n",
      "60000/60000 [==============================] - 2s 26us/sample - loss: 0.0258 - acc: 0.8580 - val_loss: 0.0218 - val_acc: 0.8765\n",
      "Epoch 3/10\n",
      "60000/60000 [==============================] - 2s 28us/sample - loss: 0.0215 - acc: 0.8747 - val_loss: 0.0192 - val_acc: 0.8887\n",
      "Epoch 4/10\n",
      "60000/60000 [==============================] - 2s 27us/sample - loss: 0.0195 - acc: 0.8845 - val_loss: 0.0178 - val_acc: 0.8946\n",
      "Epoch 5/10\n",
      "60000/60000 [==============================] - 2s 27us/sample - loss: 0.0182 - acc: 0.8900 - val_loss: 0.0168 - val_acc: 0.8985\n",
      "Epoch 6/10\n",
      "60000/60000 [==============================] - 2s 27us/sample - loss: 0.0174 - acc: 0.8945 - val_loss: 0.0161 - val_acc: 0.9016\n",
      "Epoch 7/10\n",
      "60000/60000 [==============================] - 2s 26us/sample - loss: 0.0168 - acc: 0.8981 - val_loss: 0.0156 - val_acc: 0.9030\n",
      "Epoch 8/10\n",
      "60000/60000 [==============================] - 2s 26us/sample - loss: 0.0163 - acc: 0.9004 - val_loss: 0.0152 - val_acc: 0.9045\n",
      "Epoch 9/10\n",
      "60000/60000 [==============================] - 2s 26us/sample - loss: 0.0158 - acc: 0.9020 - val_loss: 0.0149 - val_acc: 0.9066\n",
      "Epoch 10/10\n",
      "60000/60000 [==============================] - 2s 26us/sample - loss: 0.0155 - acc: 0.9043 - val_loss: 0.0146 - val_acc: 0.9077\n",
      "10000/10000 [==============================] - 0s 13us/sample - loss: 0.0146 - acc: 0.9077\n"
     ]
    }
   ],
   "source": [
    "# 载入数据集\n",
    "mnist = tf.keras.datasets.mnist\n",
    "\n",
    "(x_train, y_train), (x_test, y_test) = mnist.load_data()  # 载入后人家给你分好了。。。\n",
    "# 归一化:0-255->0-1\n",
    "x_train, x_test = x_train / 255.0, x_test / 255.0\n",
    "print(x_train.shape, y_train.shape)\n",
    "\n",
    "# 转独热编码one-hot    .to_categorical\n",
    "y_train = tf.keras.utils.to_categorical(y_train,num_classes=10)\n",
    "y_test = tf.keras.utils.to_categorical(y_test,num_classes=10)\n",
    "\n",
    "# (60000,28,28)->(60000,784)   降维，按行把像素拉成一行，用于计算，算完就扔掉了，不用拉回来\n",
    "# 构建模型\n",
    "model = tf.keras.models.Sequential([\n",
    "  tf.keras.layers.Flatten(input_shape=(28, 28)),   # Flatten数据扁平化，降维\n",
    "  tf.keras.layers.Dense(10, activation='softmax')\n",
    "])\n",
    "\n",
    "# 训练模型\n",
    "sgd = SGD(0.1)\n",
    "model.compile(optimizer=sgd,\n",
    "              loss='mse',\n",
    "              metrics=['accuracy'])  # 一边训练，一边计算准确率\n",
    "\n",
    "model.fit(x_train, y_train, epochs=10, batch_size=32, validation_data=(x_test, y_test))\n",
    "# 一共10轮运算，每次训练传入32张图片"
   ]
  },
  {
   "cell_type": "code",
   "execution_count": 3,
   "metadata": {},
   "outputs": [
    {
     "data": {
      "text/plain": [
       "(0.014612234235554933, 0.9077)"
      ]
     },
     "execution_count": 3,
     "metadata": {},
     "output_type": "execute_result"
    }
   ],
   "source": [
    "loss,metrics"
   ]
  },
  {
   "cell_type": "code",
   "execution_count": null,
   "metadata": {
    "collapsed": true
   },
   "outputs": [],
   "source": []
  }
 ],
 "metadata": {
  "anaconda-cloud": {},
  "kernelspec": {
   "display_name": "Python 3",
   "language": "python",
   "name": "python3"
  },
  "language_info": {
   "codemirror_mode": {
    "name": "ipython",
    "version": 3
   },
   "file_extension": ".py",
   "mimetype": "text/x-python",
   "name": "python",
   "nbconvert_exporter": "python",
   "pygments_lexer": "ipython3",
   "version": "3.6.5"
  }
 },
 "nbformat": 4,
 "nbformat_minor": 1
}
