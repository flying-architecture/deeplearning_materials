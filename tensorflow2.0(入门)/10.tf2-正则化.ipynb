{
 "cells": [
  {
   "cell_type": "code",
   "execution_count": 1,
   "metadata": {},
   "outputs": [
    {
     "name": "stderr",
     "output_type": "stream",
     "text": [
      "C:\\Users\\MeganLee\\AppData\\Local\\Continuum\\anaconda3\\lib\\site-packages\\h5py\\__init__.py:36: FutureWarning: Conversion of the second argument of issubdtype from `float` to `np.floating` is deprecated. In future, it will be treated as `np.float64 == np.dtype(float).type`.\n",
      "  from ._conv import register_converters as _register_converters\n"
     ]
    }
   ],
   "source": [
    "import tensorflow as tf\n",
    "from tensorflow.keras.models import Sequential\n",
    "from tensorflow.keras.layers import Dense,Dropout,Flatten\n",
    "from tensorflow.keras.optimizers import SGD\n",
    "from tensorflow.keras.regularizers import l2,l1"
   ]
  },
  {
   "cell_type": "code",
   "execution_count": 2,
   "metadata": {},
   "outputs": [
    {
     "name": "stdout",
     "output_type": "stream",
     "text": [
      "(60000, 28, 28) (60000,)\n",
      "Train on 60000 samples, validate on 10000 samples\n",
      "Epoch 1/10\n",
      "60000/60000 [==============================] - 8s 141us/sample - loss: 0.4073 - accuracy: 0.9206 - val_loss: 0.2976 - val_accuracy: 0.9510\n",
      "Epoch 2/10\n",
      "60000/60000 [==============================] - 7s 119us/sample - loss: 0.2606 - accuracy: 0.9600 - val_loss: 0.2625 - val_accuracy: 0.9545\n",
      "Epoch 3/10\n",
      "60000/60000 [==============================] - 7s 118us/sample - loss: 0.2171 - accuracy: 0.9693 - val_loss: 0.2113 - val_accuracy: 0.9699\n",
      "Epoch 4/10\n",
      "60000/60000 [==============================] - 7s 116us/sample - loss: 0.1932 - accuracy: 0.9736 - val_loss: 0.1914 - val_accuracy: 0.9734\n",
      "Epoch 5/10\n",
      "60000/60000 [==============================] - 7s 121us/sample - loss: 0.1785 - accuracy: 0.9755 - val_loss: 0.1928 - val_accuracy: 0.9687\n",
      "Epoch 6/10\n",
      "60000/60000 [==============================] - 7s 124us/sample - loss: 0.1675 - accuracy: 0.9779 - val_loss: 0.1817 - val_accuracy: 0.9718\n",
      "Epoch 7/10\n",
      "60000/60000 [==============================] - 8s 131us/sample - loss: 0.1613 - accuracy: 0.9787 - val_loss: 0.1726 - val_accuracy: 0.9733\n",
      "Epoch 8/10\n",
      "60000/60000 [==============================] - 8s 129us/sample - loss: 0.1577 - accuracy: 0.9793 - val_loss: 0.2037 - val_accuracy: 0.9628\n",
      "Epoch 9/10\n",
      "60000/60000 [==============================] - 8s 140us/sample - loss: 0.1531 - accuracy: 0.9802 - val_loss: 0.2042 - val_accuracy: 0.9641\n",
      "Epoch 10/10\n",
      "60000/60000 [==============================] - 7s 124us/sample - loss: 0.1511 - accuracy: 0.9804 - val_loss: 0.1694 - val_accuracy: 0.9729\n"
     ]
    },
    {
     "data": {
      "text/plain": [
       "<tensorflow.python.keras.callbacks.History at 0x24eb6a43748>"
      ]
     },
     "execution_count": 2,
     "metadata": {},
     "output_type": "execute_result"
    }
   ],
   "source": [
    "# 载入数据\n",
    "mnist = tf.keras.datasets.mnist\n",
    "\n",
    "(x_train, y_train), (x_test, y_test) = mnist.load_data()\n",
    "x_train, x_test = x_train / 255.0, x_test / 255.0\n",
    "print(x_train.shape, y_train.shape)\n",
    "\n",
    "y_train = tf.keras.utils.to_categorical(y_train,num_classes=10)\n",
    "y_test = tf.keras.utils.to_categorical(y_test,num_classes=10)\n",
    "\n",
    "# 创建模型\n",
    "model = Sequential([\n",
    "        Flatten(input_shape=(28, 28)),\n",
    "        Dense(units=200,activation='tanh',kernel_regularizer=l2(0.0003)),# 正则项系数0.0003\n",
    "        Dense(units=100,activation='tanh',kernel_regularizer=l2(0.0003)),\n",
    "        Dense(units=10,activation='softmax',kernel_regularizer=l2(0.0003))\n",
    "    ])\n",
    "\n",
    "# 定义优化器\n",
    "sgd = SGD(lr=0.2)\n",
    "\n",
    "# 定义优化器，loss function，训练过程中计算准确率\n",
    "model.compile(\n",
    "    optimizer = sgd,\n",
    "    loss = 'categorical_crossentropy',\n",
    "    metrics=['accuracy'],\n",
    ")\n",
    "\n",
    "# 训练模型\n",
    "model.fit(x_train,y_train,batch_size=32,epochs=10,validation_data=(x_test,y_test))"
   ]
  },
  {
   "cell_type": "code",
   "execution_count": null,
   "metadata": {},
   "outputs": [],
   "source": []
  },
  {
   "cell_type": "code",
   "execution_count": null,
   "metadata": {},
   "outputs": [],
   "source": []
  }
 ],
 "metadata": {
  "anaconda-cloud": {},
  "kernelspec": {
   "display_name": "Python 3",
   "language": "python",
   "name": "python3"
  },
  "language_info": {
   "codemirror_mode": {
    "name": "ipython",
    "version": 3
   },
   "file_extension": ".py",
   "mimetype": "text/x-python",
   "name": "python",
   "nbconvert_exporter": "python",
   "pygments_lexer": "ipython3",
   "version": "3.6.5"
  }
 },
 "nbformat": 4,
 "nbformat_minor": 2
}
