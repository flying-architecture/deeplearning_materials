{
 "cells": [
  {
   "cell_type": "code",
   "execution_count": 5,
   "metadata": {},
   "outputs": [],
   "source": [
    "import tensorflow as tf\n",
    "from tensorflow.keras.optimizers import SGD\n",
    "from tensorflow.keras.models import load_model"
   ]
  },
  {
   "cell_type": "code",
   "execution_count": 2,
   "metadata": {},
   "outputs": [
    {
     "name": "stdout",
     "output_type": "stream",
     "text": [
      "(60000, 28, 28) (60000,)\n",
      "10000/10000 [==============================] - 1s 105us/sample - loss: 0.0145 - accuracy: 0.9100\n",
      "\n",
      "test loss 0.014503094059042633\n",
      "accuracy 0.91\n"
     ]
    }
   ],
   "source": [
    "# 载入数据集\n",
    "mnist = tf.keras.datasets.mnist\n",
    "\n",
    "(x_train, y_train), (x_test, y_test) = mnist.load_data()\n",
    "x_train, x_test = x_train / 255.0, x_test / 255.0\n",
    "print(x_train.shape, y_train.shape)\n",
    "\n",
    "# 转独热编码one-hot\n",
    "y_train = tf.keras.utils.to_categorical(y_train,num_classes=10)\n",
    "y_test = tf.keras.utils.to_categorical(y_test,num_classes=10)\n",
    "\n",
    "# 载入模型\n",
    "model = load_model('keras_models/model.h5')\n",
    "\n",
    "# 评估模型\n",
    "loss,accuracy = model.evaluate(x_test,y_test)\n",
    "\n",
    "print('\\ntest loss',loss)\n",
    "print('accuracy',accuracy)"
   ]
  },
  {
   "cell_type": "code",
   "execution_count": 3,
   "metadata": {},
   "outputs": [
    {
     "name": "stdout",
     "output_type": "stream",
     "text": [
      "Epoch 1/2\n",
      "60000/60000 [==============================] - 3s 53us/sample - loss: 0.0152 - accuracy: 0.9059\n",
      "Epoch 2/2\n",
      "60000/60000 [==============================] - 3s 51us/sample - loss: 0.0151 - accuracy: 0.9068\n",
      "10000/10000 [==============================] - 1s 66us/sample - loss: 0.0143 - accuracy: 0.9114\n",
      "\n",
      "test loss 0.014259572846349329\n",
      "accuracy 0.9114\n"
     ]
    }
   ],
   "source": [
    "# 训练模型\n",
    "model.fit(x_train,y_train,batch_size=64,epochs=2)\n",
    "\n",
    "# 评估模型\n",
    "loss,accuracy = model.evaluate(x_test,y_test)\n",
    "\n",
    "print('\\ntest loss',loss)\n",
    "print('accuracy',accuracy)"
   ]
  },
  {
   "cell_type": "code",
   "execution_count": 4,
   "metadata": {
    "collapsed": true
   },
   "outputs": [],
   "source": [
    "# 保存参数，载入参数\n",
    "model.save_weights('keras_models/my_model_weights.h5')\n",
    "model.load_weights('keras_models/my_model_weights.h5')\n",
    "# 保存网络结构，载入网络结构\n",
    "from tensorflow.keras.models import model_from_json\n",
    "# 保存网络结构\n",
    "json_string = model.to_json()\n",
    "# 载入网络结构\n",
    "model = model_from_json(json_string)"
   ]
  }
 ],
 "metadata": {
  "anaconda-cloud": {},
  "kernelspec": {
   "display_name": "Python 3",
   "language": "python",
   "name": "python3"
  },
  "language_info": {
   "codemirror_mode": {
    "name": "ipython",
    "version": 3
   },
   "file_extension": ".py",
   "mimetype": "text/x-python",
   "name": "python",
   "nbconvert_exporter": "python",
   "pygments_lexer": "ipython3",
   "version": "3.6.5"
  }
 },
 "nbformat": 4,
 "nbformat_minor": 1
}
