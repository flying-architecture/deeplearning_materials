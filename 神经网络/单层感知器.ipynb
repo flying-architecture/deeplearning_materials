{
 "cells": [
  {
   "cell_type": "code",
   "execution_count": 1,
   "metadata": {},
   "outputs": [],
   "source": [
    "import numpy as np\n",
    "import matplotlib.pyplot as plt"
   ]
  },
  {
   "cell_type": "code",
   "execution_count": 6,
   "metadata": {},
   "outputs": [
    {
     "name": "stdout",
     "output_type": "stream",
     "text": [
      "[[0.27021065]\n",
      " [0.38489691]\n",
      " [0.34364507]]\n"
     ]
    }
   ],
   "source": [
    "#输入数据\n",
    "X = np.array([[1,3,3],\n",
    "              [1,4,3],\n",
    "              [1,1,1]])\n",
    "#标签\n",
    "Y = np.array([[1],\n",
    "              [1],\n",
    "              [-1]])\n",
    "\n",
    "#权值初始化，3行1列，取值范围-1到1\n",
    "W = (np.random.random([3,1])-0.5)*2\n",
    "\n",
    "print(W)\n",
    "#学习率设置\n",
    "lr = 0.11\n",
    "\n",
    "#计算迭代次数\n",
    "n = 0\n",
    "#神经网络输出\n",
    "O = 0    # O：网络计算值\n",
    "\n",
    "def update():\n",
    "    global X,Y,W,lr\n",
    "    O = np.sign(np.dot(X,W)) # shape:(3,1)   np.dot矩阵计算\n",
    "    W_C = lr*(X.T.dot(Y-O))/int(X.shape[0])   # .shape(0)列表行数->计算W平均值\n",
    "    W = W + W_C"
   ]
  },
  {
   "cell_type": "code",
   "execution_count": 7,
   "metadata": {},
   "outputs": [
    {
     "name": "stdout",
     "output_type": "stream",
     "text": [
      "[[0.19687732]\n",
      " [0.31156358]\n",
      " [0.27031174]]\n",
      "1\n",
      "[[0.12354399]\n",
      " [0.23823025]\n",
      " [0.19697841]]\n",
      "2\n",
      "[[0.05021065]\n",
      " [0.16489691]\n",
      " [0.12364507]]\n",
      "3\n",
      "[[-0.02312268]\n",
      " [ 0.09156358]\n",
      " [ 0.05031174]]\n",
      "4\n",
      "[[-0.09645601]\n",
      " [ 0.01823025]\n",
      " [-0.02302159]]\n",
      "5\n",
      "[[0.05021065]\n",
      " [0.53156358]\n",
      " [0.41697841]]\n",
      "6\n",
      "[[-0.02312268]\n",
      " [ 0.45823025]\n",
      " [ 0.34364507]]\n",
      "7\n",
      "[[-0.09645601]\n",
      " [ 0.38489691]\n",
      " [ 0.27031174]]\n",
      "8\n",
      "[[-0.16978935]\n",
      " [ 0.31156358]\n",
      " [ 0.19697841]]\n",
      "9\n",
      "[[-0.24312268]\n",
      " [ 0.23823025]\n",
      " [ 0.12364507]]\n",
      "10\n",
      "[[-0.31645601]\n",
      " [ 0.16489691]\n",
      " [ 0.05031174]]\n",
      "11\n",
      "Finished\n",
      "epoch: 11\n",
      "k= [-3.27750368]\n",
      "d= [6.28990396]\n"
     ]
    },
    {
     "data": {
      "image/png": "[encoded data removed]",
      "text/plain": [
       "<Figure size 432x288 with 1 Axes>"
      ]
     },
     "metadata": {},
     "output_type": "display_data"
    }
   ],
   "source": [
    "for _ in range(100):\n",
    "    update()#更新权值\n",
    "    n+=1\n",
    "    print(W)#打印当前权值\n",
    "    print(n)#打印迭代次数\n",
    "    O = np.sign(np.dot(X,W))#计算当前输出  \n",
    "    if(O == Y).all(): #如果实际输出等于期望输出，模型收敛，循环结束\n",
    "        print('Finished')\n",
    "        print('epoch:',n)\n",
    "        break\n",
    "\n",
    "#正样本\n",
    "x1 = [3,4]\n",
    "y1 = [3,3]\n",
    "#负样本\n",
    "x2 = [1]\n",
    "y2 = [1]\n",
    "\n",
    "# w0 + x1w1 + x2w2 >0 -> 1\n",
    "# w0 + x1w1 + x2w2 <0 -> -1\n",
    "# w0 + x1w1 + x2w2 = 0\n",
    "# w0 + xw1 + yw2 = 0\n",
    "# y = -xw1/w2 - w0/w2\n",
    "\n",
    "#计算分界线的斜率以及截距\n",
    "k = -W[1]/W[2]\n",
    "d = -W[0]/W[2]\n",
    "print('k=',k)\n",
    "print('d=',d)\n",
    "\n",
    "xdata = (0,5)\n",
    "\n",
    "plt.figure()\n",
    "plt.plot(xdata,xdata*k+d,'r')\n",
    "plt.scatter(x1,y1,c='b')\n",
    "plt.scatter(x2,y2,c='y')\n",
    "plt.show()"
   ]
  },
  {
   "cell_type": "code",
   "execution_count": 17,
   "metadata": {},
   "outputs": [
    {
     "name": "stderr",
     "output_type": "stream",
     "text": [
      "/Users/qin/anaconda3/lib/python3.6/site-packages/h5py/__init__.py:36: FutureWarning: Conversion of the second argument of issubdtype from `float` to `np.floating` is deprecated. In future, it will be treated as `np.float64 == np.dtype(float).type`.\n",
      "  from ._conv import register_converters as _register_converters\n"
     ]
    }
   ],
   "source": [
    "import tensorflow"
   ]
  },
  {
   "cell_type": "code",
   "execution_count": null,
   "metadata": {},
   "outputs": [],
   "source": []
  },
  {
   "cell_type": "code",
   "execution_count": null,
   "metadata": {
    "collapsed": true
   },
   "outputs": [],
   "source": []
  }
 ],
 "metadata": {
  "anaconda-cloud": {},
  "kernelspec": {
   "display_name": "Python 3",
   "language": "python",
   "name": "python3"
  },
  "language_info": {
   "codemirror_mode": {
    "name": "ipython",
    "version": 3
   },
   "file_extension": ".py",
   "mimetype": "text/x-python",
   "name": "python",
   "nbconvert_exporter": "python",
   "pygments_lexer": "ipython3",
   "version": "3.6.5"
  }
 },
 "nbformat": 4,
 "nbformat_minor": 1
}
